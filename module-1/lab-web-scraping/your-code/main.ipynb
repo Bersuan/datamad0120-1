{
 "cells": [
  {
   "cell_type": "markdown",
   "metadata": {},
   "source": [
    "# Web Scraping Lab\n",
    "\n",
    "You will find in this notebook some scrapy exercises to practise your scraping skills.\n",
    "\n",
    "**Tips:**\n",
    "\n",
    "- Check the response status code for each request to ensure you have obtained the intended contennt.\n",
    "- Print the response text in each request to understand the kind of info you are getting and its format.\n",
    "- Check for patterns in the response text to extract the data/info requested in each question.\n",
    "- Visit each url and take a look at its source through Chrome DevTools. You'll need to identify the html tags, special class names etc. used for the html content you are expected to extract."
   ]
  },
  {
   "cell_type": "markdown",
   "metadata": {},
   "source": [
    "- [Requests library](http://docs.python-requests.org/en/master/#the-user-guide) documentation \n",
    "- [Beautiful Soup Doc](https://www.crummy.com/software/BeautifulSoup/bs4/doc/)\n",
    "- [Urllib](https://docs.python.org/3/library/urllib.html#module-urllib)\n",
    "- [re lib](https://docs.python.org/3/library/re.html)\n",
    "- [lxml lib](https://lxml.de/)\n",
    "- [Scrapy](https://scrapy.org/)\n",
    "- [List of HTTP status codes](https://en.wikipedia.org/wiki/List_of_HTTP_status_codes)\n",
    "- [HTML basics](http://www.simplehtmlguide.com/cheatsheet.php)\n",
    "- [CSS basics](https://www.cssbasics.com/#page_start)"
   ]
  },
  {
   "cell_type": "markdown",
   "metadata": {},
   "source": [
    "#### Below are the libraries and modules you may need. `requests`,  `BeautifulSoup` and `pandas` are imported for you. If you prefer to use additional libraries feel free to uncomment them."
   ]
  },
  {
   "cell_type": "code",
   "execution_count": 1,
   "metadata": {},
   "outputs": [
    {
     "name": "stdout",
     "output_type": "stream",
     "text": [
      "Requirement already satisfied: bs4 in /Library/Frameworks/Python.framework/Versions/3.8/lib/python3.8/site-packages (0.0.1)\n",
      "Requirement already satisfied: beautifulsoup4 in /Library/Frameworks/Python.framework/Versions/3.8/lib/python3.8/site-packages (from bs4) (4.8.2)\n",
      "Requirement already satisfied: soupsieve>=1.2 in /Library/Frameworks/Python.framework/Versions/3.8/lib/python3.8/site-packages (from beautifulsoup4->bs4) (1.9.5)\n",
      "\u001b[33mWARNING: You are using pip version 19.2.3, however version 20.0.2 is available.\n",
      "You should consider upgrading via the 'pip install --upgrade pip' command.\u001b[0m\n"
     ]
    }
   ],
   "source": [
    "!pip3 install bs4"
   ]
  },
  {
   "cell_type": "code",
   "execution_count": 2,
   "metadata": {},
   "outputs": [],
   "source": [
    "import requests\n",
    "from bs4 import BeautifulSoup\n",
    "import pandas as pd\n",
    "# from pprint import pprint\n",
    "# from lxml import html\n",
    "# from lxml.html import fromstring\n",
    "# import urllib.request\n",
    "# from urllib.request import urlopen\n",
    "# import random\n",
    "# import re\n",
    "# import scrapy"
   ]
  },
  {
   "cell_type": "markdown",
   "metadata": {},
   "source": [
    "#### Download, parse (using BeautifulSoup), and print the content from the Trending Developers page from GitHub:"
   ]
  },
  {
   "cell_type": "code",
   "execution_count": 3,
   "metadata": {},
   "outputs": [],
   "source": [
    "# This is the url you will scrape in this exercise\n",
    "url = 'https://github.com/trending/developers'"
   ]
  },
  {
   "cell_type": "code",
   "execution_count": 4,
   "metadata": {},
   "outputs": [],
   "source": [
    "#your code\n",
    "gitDev = requests.get(url)\n",
    "soup = BeautifulSoup(gitDev.text, 'html.parser')"
   ]
  },
  {
   "cell_type": "markdown",
   "metadata": {},
   "source": [
    "#### Display the names of the trending developers retrieved in the previous step.\n",
    "\n",
    "Your output should be a Python list of developer names. Each name should not contain any html tag.\n",
    "\n",
    "**Instructions:**\n",
    "\n",
    "1. Find out the html tag and class names used for the developer names. You can achieve this using Chrome DevTools.\n",
    "\n",
    "1. Use BeautifulSoup to extract all the html elements that contain the developer names.\n",
    "\n",
    "1. Use string manipulation techniques to replace whitespaces and linebreaks (i.e. `\\n`) in the *text* of each html element. Use a list to store the clean names.\n",
    "\n",
    "1. Print the list of names.\n",
    "\n",
    "Your output should look like below:\n",
    "\n",
    "```\n",
    "['trimstray (@trimstray)',\n",
    " 'joewalnes (JoeWalnes)',\n",
    " 'charlax (Charles-AxelDein)',\n",
    " 'ForrestKnight (ForrestKnight)',\n",
    " 'revery-ui (revery-ui)',\n",
    " 'alibaba (Alibaba)',\n",
    " 'Microsoft (Microsoft)',\n",
    " 'github (GitHub)',\n",
    " 'facebook (Facebook)',\n",
    " 'boazsegev (Bo)',\n",
    " 'google (Google)',\n",
    " 'cloudfetch',\n",
    " 'sindresorhus (SindreSorhus)',\n",
    " 'tensorflow',\n",
    " 'apache (TheApacheSoftwareFoundation)',\n",
    " 'DevonCrawford (DevonCrawford)',\n",
    " 'ARMmbed (ArmMbed)',\n",
    " 'vuejs (vuejs)',\n",
    " 'fastai (fast.ai)',\n",
    " 'QiShaoXuan (Qi)',\n",
    " 'joelparkerhenderson (JoelParkerHenderson)',\n",
    " 'torvalds (LinusTorvalds)',\n",
    " 'CyC2018',\n",
    " 'komeiji-satori (神楽坂覚々)',\n",
    " 'script-8']\n",
    " ```"
   ]
  },
  {
   "cell_type": "code",
   "execution_count": 5,
   "metadata": {},
   "outputs": [],
   "source": [
    "#your code\n",
    "treDeve= []\n",
    "for tag in soup.select('.h3.lh-condensed a'):\n",
    "    treDeve.append(tag)"
   ]
  },
  {
   "cell_type": "code",
   "execution_count": 6,
   "metadata": {},
   "outputs": [
    {
     "name": "stdout",
     "output_type": "stream",
     "text": [
      "mattn mattn\n",
      "amueller Andreas Mueller\n",
      "brianc Brian C\n",
      "ErikSchierboom Erik Schierboom\n",
      "JohnSundell John Sundell\n",
      "siddharthkp Siddharth Kshetrapal\n",
      "jasonwilliams Jason Williams\n",
      "kyleconroy Kyle Conroy\n",
      "asottile Anthony Sottile\n",
      "wcandillon William Candillon\n",
      "cmyr Colin Rofls\n",
      "panva Filip Skokan\n",
      "amilajack Amila Welihinda\n",
      "KristofferC Kristoffer Carlsson\n",
      "gcanti Giulio Canti\n",
      "greatghoul greatghoul\n",
      "miekg Miek Gieben\n",
      "Naturalclar Jesse Katsumata\n",
      "lucasmichot Lucas Michot\n",
      "ageitgey Adam Geitgey\n",
      "phil-opp Philipp Oppermann\n",
      "tony Tony Narlock\n",
      "isaacs isaacs\n",
      "4ian Florian Rival\n",
      "satya164 Satyajit Sahoo\n"
     ]
    }
   ],
   "source": [
    "for i in treDeve:    \n",
    "    print(i['href'].replace(\"/\",\"\"), i.text.strip())"
   ]
  },
  {
   "cell_type": "markdown",
   "metadata": {},
   "source": [
    "#### Display the trending Python repositories in GitHub\n",
    "\n",
    "The steps to solve this problem is similar to the previous one except that you need to find out the repository names instead of developer names."
   ]
  },
  {
   "cell_type": "code",
   "execution_count": 7,
   "metadata": {},
   "outputs": [],
   "source": [
    "# This is the url you will scrape in this exercise\n",
    "url2 = 'https://github.com/trending/python?since=daily'"
   ]
  },
  {
   "cell_type": "code",
   "execution_count": 8,
   "metadata": {},
   "outputs": [],
   "source": [
    "#your code\n",
    "gitTren = requests.get(url2)\n",
    "soup = BeautifulSoup(gitTren.text, 'html.parser')"
   ]
  },
  {
   "cell_type": "code",
   "execution_count": 9,
   "metadata": {},
   "outputs": [],
   "source": [
    "Trending = []\n",
    "for tag in soup.select('.h3.lh-condensed a'):\n",
    "    Trending.append(tag)"
   ]
  },
  {
   "cell_type": "code",
   "execution_count": 10,
   "metadata": {},
   "outputs": [
    {
     "name": "stdout",
     "output_type": "stream",
     "text": [
      " BlankerL DXY-2019-nCoV-Crawler\n",
      " gto76 python-cheatsheet\n",
      " smicallef spiderfoot\n",
      " sebastianruder NLP-progress\n",
      " rish-16 sight\n",
      " luong-komorebi Awesome-Linux-Software\n",
      " vinta awesome-python\n",
      " nicrusso7 rex-gym\n",
      " baowenbo DAIN\n",
      " eastlakeside interpy-zh\n",
      " tiangolo fastapi\n",
      " explosion thinc\n",
      " willmcgugan rich\n",
      " MatthewPierson Vieux\n",
      " CCExtractor vardbg\n",
      " dragen1860 Deep-Learning-with-TensorFlow-book\n",
      " brendangregg bpf-perf-tools-book\n",
      " googleapis google-cloud-python\n",
      " anchore anchore-engine\n",
      " aj-4 tinder-swipe-bot\n",
      " pytorch captum\n",
      " samuelhwilliams Eel\n",
      " salesforce policy_sentry\n",
      " yzhao062 anomaly-detection-resources\n",
      " vineetjohn daily-coding-problem\n"
     ]
    }
   ],
   "source": [
    "for i in Trending:    \n",
    "    print(i['href'].replace(\"/\",\" \"))"
   ]
  },
  {
   "cell_type": "markdown",
   "metadata": {},
   "source": [
    "#### Display all the image links from Walt Disney wikipedia page"
   ]
  },
  {
   "cell_type": "code",
   "execution_count": 11,
   "metadata": {},
   "outputs": [],
   "source": [
    "# This is the url you will scrape in this exercise\n",
    "url = 'https://en.wikipedia.org/wiki/Walt_Disney'"
   ]
  },
  {
   "cell_type": "code",
   "execution_count": 12,
   "metadata": {},
   "outputs": [],
   "source": [
    "#your code\n",
    "GitWaltdis = requests.get(url2)\n",
    "soup = BeautifulSoup(GitWaltdis.text, 'html.parser')"
   ]
  },
  {
   "cell_type": "code",
   "execution_count": 13,
   "metadata": {},
   "outputs": [],
   "source": [
    "WaltDis = []\n",
    "for tag in soup.select('img'):\n",
    "    WaltDis.append(tag)"
   ]
  },
  {
   "cell_type": "code",
   "execution_count": 14,
   "metadata": {},
   "outputs": [
    {
     "name": "stdout",
     "output_type": "stream",
     "text": [
      "https://github.githubassets.com/images/search-key-slash.svg\n",
      "\n",
      "\n",
      "\n",
      "https://avatars0.githubusercontent.com/u/24969376?s=40&v=4\n",
      "https://avatars0.githubusercontent.com/u/1396046?s=40&v=4\n",
      "https://avatars2.githubusercontent.com/u/9513634?s=40&v=4\n",
      "https://avatars0.githubusercontent.com/u/1421526?s=40&v=4\n",
      "https://avatars0.githubusercontent.com/u/20489521?s=40&v=4\n",
      "https://avatars1.githubusercontent.com/u/6803791?s=40&v=4\n",
      "https://avatars3.githubusercontent.com/u/1687345?s=40&v=4\n",
      "https://avatars3.githubusercontent.com/u/434827?s=40&v=4\n",
      "https://avatars0.githubusercontent.com/u/29049599?s=40&v=4\n",
      "https://avatars2.githubusercontent.com/u/8905868?s=40&v=4\n",
      "https://avatars0.githubusercontent.com/u/7339334?s=40&v=4\n",
      "https://avatars2.githubusercontent.com/u/6792642?s=40&v=4\n",
      "https://avatars1.githubusercontent.com/u/3250749?s=40&v=4\n",
      "https://avatars0.githubusercontent.com/u/1001610?s=40&v=4\n",
      "https://avatars1.githubusercontent.com/u/6361575?s=40&v=4\n",
      "https://avatars2.githubusercontent.com/u/31173491?s=40&v=4\n",
      "https://avatars1.githubusercontent.com/u/20137995?s=40&v=4\n",
      "https://avatars2.githubusercontent.com/u/18087283?s=40&v=4\n",
      "https://avatars0.githubusercontent.com/in/29110?s=40&v=4\n",
      "https://avatars1.githubusercontent.com/u/28847460?s=40&v=4\n",
      "https://avatars0.githubusercontent.com/u/15828926?s=40&v=4\n",
      "https://avatars2.githubusercontent.com/u/29680981?s=40&v=4\n",
      "https://avatars2.githubusercontent.com/u/20382692?s=40&v=4\n",
      "https://avatars2.githubusercontent.com/u/4954007?s=40&v=4\n",
      "https://avatars1.githubusercontent.com/u/43306860?s=40&v=4\n",
      "https://avatars0.githubusercontent.com/u/652070?s=40&v=4\n",
      "https://avatars1.githubusercontent.com/u/4560482?s=40&v=4\n",
      "https://avatars1.githubusercontent.com/u/596651?s=40&v=4\n",
      "https://avatars2.githubusercontent.com/u/178641?s=40&v=4\n",
      "https://avatars1.githubusercontent.com/u/591113?s=40&v=4\n",
      "https://avatars2.githubusercontent.com/u/8685805?s=40&v=4\n",
      "https://avatars0.githubusercontent.com/in/29110?s=40&v=4\n",
      "https://avatars1.githubusercontent.com/u/7220760?s=40&v=4\n",
      "https://avatars3.githubusercontent.com/u/16225495?s=40&v=4\n",
      "https://avatars1.githubusercontent.com/u/25139386?s=40&v=4\n",
      "https://avatars2.githubusercontent.com/u/1326887?s=40&v=4\n",
      "https://avatars3.githubusercontent.com/u/104815?s=40&v=4\n",
      "https://avatars1.githubusercontent.com/u/730639?s=40&v=4\n",
      "https://avatars2.githubusercontent.com/u/4584304?s=40&v=4\n",
      "https://avatars0.githubusercontent.com/u/2370761?s=40&v=4\n",
      "https://avatars2.githubusercontent.com/u/1326112?s=40&v=4\n",
      "https://avatars0.githubusercontent.com/u/35119617?s=40&v=4\n",
      "https://avatars1.githubusercontent.com/u/1104190?s=40&v=4\n",
      "https://avatars3.githubusercontent.com/u/2647889?s=40&v=4\n",
      "https://avatars2.githubusercontent.com/u/2546697?s=40&v=4\n",
      "https://avatars3.githubusercontent.com/u/8059750?s=40&v=4\n",
      "https://avatars2.githubusercontent.com/u/781165?s=40&v=4\n",
      "https://avatars3.githubusercontent.com/u/13643239?s=40&v=4\n",
      "https://avatars3.githubusercontent.com/u/8796347?s=40&v=4\n",
      "https://avatars3.githubusercontent.com/u/101493?s=40&v=4\n",
      "https://avatars2.githubusercontent.com/u/554369?s=40&v=4\n",
      "https://avatars3.githubusercontent.com/u/857609?s=40&v=4\n",
      "https://avatars3.githubusercontent.com/u/48230305?s=40&v=4\n",
      "https://avatars0.githubusercontent.com/u/24739823?s=40&v=4\n",
      "https://avatars1.githubusercontent.com/u/7930239?s=40&v=4\n",
      "https://avatars2.githubusercontent.com/u/4252555?s=40&v=4\n",
      "https://avatars2.githubusercontent.com/u/14964742?s=40&v=4\n",
      "https://avatars1.githubusercontent.com/u/12589674?s=40&v=4\n",
      "https://avatars3.githubusercontent.com/u/3709715?s=40&v=4\n",
      "https://avatars0.githubusercontent.com/u/22617255?s=40&v=4\n",
      "https://avatars1.githubusercontent.com/u/1101211?s=40&v=4\n",
      "https://avatars0.githubusercontent.com/u/12537?s=40&v=4\n",
      "https://avatars3.githubusercontent.com/u/242750?s=40&v=4\n",
      "https://avatars0.githubusercontent.com/u/520669?s=40&v=4\n",
      "https://avatars1.githubusercontent.com/u/44816363?s=40&v=4\n",
      "https://avatars2.githubusercontent.com/u/192456?s=40&v=4\n",
      "https://avatars0.githubusercontent.com/u/638797?s=40&v=4\n",
      "https://avatars0.githubusercontent.com/u/1760736?s=40&v=4\n",
      "https://avatars2.githubusercontent.com/u/1696308?s=40&v=4\n",
      "https://avatars3.githubusercontent.com/u/819379?s=40&v=4\n",
      "https://avatars2.githubusercontent.com/u/2348190?s=40&v=4\n",
      "https://avatars3.githubusercontent.com/u/5784681?s=40&v=4\n",
      "https://avatars2.githubusercontent.com/u/4165229?s=40&v=4\n",
      "https://avatars1.githubusercontent.com/u/45885529?s=40&v=4\n",
      "https://avatars3.githubusercontent.com/u/29148467?s=40&v=4\n",
      "https://avatars0.githubusercontent.com/u/11067177?s=40&v=4\n",
      "https://avatars1.githubusercontent.com/u/12010601?s=40&v=4\n",
      "https://avatars3.githubusercontent.com/u/79994?s=40&v=4\n",
      "https://avatars3.githubusercontent.com/u/3168050?s=40&v=4\n",
      "https://avatars3.githubusercontent.com/u/53842584?s=40&v=4\n",
      "https://avatars2.githubusercontent.com/u/959914?s=40&v=4\n",
      "https://avatars1.githubusercontent.com/u/2920760?s=40&v=4\n",
      "https://avatars3.githubusercontent.com/u/3784339?s=40&v=4\n",
      "https://avatars3.githubusercontent.com/u/575644?s=40&v=4\n",
      "https://avatars2.githubusercontent.com/u/166269?s=40&v=4\n",
      "https://avatars2.githubusercontent.com/u/3422255?s=40&v=4\n",
      "https://avatars1.githubusercontent.com/u/672940?s=40&v=4\n",
      "https://avatars1.githubusercontent.com/u/50109?s=40&v=4\n",
      "https://avatars2.githubusercontent.com/u/15079146?s=40&v=4\n",
      "https://avatars3.githubusercontent.com/u/4240991?s=40&v=4\n",
      "https://avatars3.githubusercontent.com/u/6676439?s=40&v=4\n",
      "https://avatars1.githubusercontent.com/u/1531017?s=40&v=4\n"
     ]
    }
   ],
   "source": [
    "for i in WaltDis:    \n",
    "    print(i['src'])"
   ]
  },
  {
   "cell_type": "markdown",
   "metadata": {},
   "source": [
    "#### Retrieve an arbitary Wikipedia page of \"Python\" and create a list of links on that page"
   ]
  },
  {
   "cell_type": "code",
   "execution_count": 15,
   "metadata": {},
   "outputs": [],
   "source": [
    "# This is the url you will scrape in this exercise\n",
    "# url ='https://en.wikipedia.org/wiki/Python' \n",
    "urlOficial = 'https://en.wikipedia.org/wiki/Python_(Efteling)'"
   ]
  },
  {
   "cell_type": "code",
   "execution_count": 16,
   "metadata": {},
   "outputs": [],
   "source": [
    "#your code\n",
    "Enlaces = requests.get(urlOficial)\n",
    "soup = BeautifulSoup(Enlaces.text, 'html.parser')"
   ]
  },
  {
   "cell_type": "code",
   "execution_count": 17,
   "metadata": {},
   "outputs": [],
   "source": [
    "enlPay = []\n",
    "for tag in soup.find_all(href=True):\n",
    "    enlPay.append(tag['href'])"
   ]
  },
  {
   "cell_type": "markdown",
   "metadata": {},
   "source": [
    "#### Number of Titles that have changed in the United States Code since its last release point "
   ]
  },
  {
   "cell_type": "code",
   "execution_count": 18,
   "metadata": {},
   "outputs": [],
   "source": [
    "# This is the url you will scrape in this exercise\n",
    "url3 = 'http://uscode.house.gov/download/download.shtml'\n",
    "titulos = requests.get(url3)\n",
    "soup = BeautifulSoup(titulos.text, 'html.parser')"
   ]
  },
  {
   "cell_type": "code",
   "execution_count": 19,
   "metadata": {},
   "outputs": [
    {
     "data": {
      "text/plain": [
       "3"
      ]
     },
     "execution_count": 19,
     "metadata": {},
     "output_type": "execute_result"
    }
   ],
   "source": [
    "#your code\n",
    "titChan = 0\n",
    "for t in soup.select('.usctitlechanged'):\n",
    "    titChan+=1\n",
    "titChan"
   ]
  },
  {
   "cell_type": "markdown",
   "metadata": {},
   "source": [
    "#### A Python list with the top ten FBI's Most Wanted names "
   ]
  },
  {
   "cell_type": "code",
   "execution_count": 20,
   "metadata": {},
   "outputs": [],
   "source": [
    "# This is the url you will scrape in this exercise\n",
    "url4 = 'https://www.fbi.gov/wanted/topten'\n",
    "womens = requests.get(url4)\n",
    "soup = BeautifulSoup(womens.text, 'html.parser')"
   ]
  },
  {
   "cell_type": "code",
   "execution_count": 21,
   "metadata": {},
   "outputs": [
    {
     "data": {
      "text/plain": [
       "['Most Wanted',\n",
       " 'JASON DEREK BROWN',\n",
       " 'ALEXIS FLORES',\n",
       " 'EUGENE PALMER',\n",
       " 'SANTIAGO VILLALBA MEDEROS',\n",
       " 'RAFAEL CARO-QUINTERO',\n",
       " 'ROBERT WILLIAM FISHER',\n",
       " 'BHADRESHKUMAR CHETANBHAI PATEL',\n",
       " 'ARNOLDO JIMENEZ',\n",
       " 'ALEJANDRO ROSALES CASTILLO',\n",
       " 'YASER ABDEL SAID']"
      ]
     },
     "execution_count": 21,
     "metadata": {},
     "output_type": "execute_result"
    }
   ],
   "source": [
    "#your code \n",
    "namesW = []\n",
    "for tag in soup.select('.title a'):\n",
    "    namesW.append(tag.text)\n",
    "namesW"
   ]
  },
  {
   "cell_type": "markdown",
   "metadata": {},
   "source": [
    "####  20 latest earthquakes info (date, time, latitude, longitude and region name) by the EMSC as a pandas dataframe"
   ]
  },
  {
   "cell_type": "code",
   "execution_count": 22,
   "metadata": {},
   "outputs": [],
   "source": [
    "# This is the url you will scrape in this exercise\n",
    "url5 = 'https://www.emsc-csem.org/Earthquake/'\n",
    "earqua = requests.get(url5)\n",
    "soup = BeautifulSoup(earqua.text, 'html.parser')"
   ]
  },
  {
   "cell_type": "code",
   "execution_count": 23,
   "metadata": {},
   "outputs": [
    {
     "data": {
      "text/plain": [
       "'\\nterremoto=soup.select(\\'tbody[id=tbody] tr\\')\\nlistaDate = []\\nfor i in terremoto:\\n    date = i.select(\"td\")\\n    for i in date:\\n        listaDate.append(i.text)\\n        '"
      ]
     },
     "execution_count": 23,
     "metadata": {},
     "output_type": "execute_result"
    }
   ],
   "source": [
    "#your code\n",
    "'''\n",
    "terremoto=soup.select('tbody[id=tbody] tr')\n",
    "listaDate = []\n",
    "for i in terremoto:\n",
    "    date = i.select(\"td\")\n",
    "    for i in date:\n",
    "        listaDate.append(i.text)\n",
    "        '''"
   ]
  },
  {
   "cell_type": "code",
   "execution_count": 24,
   "metadata": {
    "scrolled": false
   },
   "outputs": [
    {
     "data": {
      "text/plain": [
       "[{'Date': 'earthquake2020-01-30\\xa0\\xa0\\xa019:50:41.150min ago',\n",
       "  'Latitude': '19.22\\xa0N\\xa0\\xa0',\n",
       "  'Longitude': '155.43\\xa0W\\xa0\\xa0',\n",
       "  'Depth': '32',\n",
       "  'Magnitude': '2.0',\n",
       "  'Region': '\\xa0ISLAND OF HAWAII, HAWAII'},\n",
       " {'Date': 'earthquake2020-01-30\\xa0\\xa0\\xa019:48:09.052min ago',\n",
       "  'Latitude': '38.34\\xa0N\\xa0\\xa0',\n",
       "  'Longitude': '38.85\\xa0E\\xa0\\xa0',\n",
       "  'Depth': '8',\n",
       "  'Magnitude': '2.3',\n",
       "  'Region': '\\xa0EASTERN TURKEY'},\n",
       " {'Date': 'earthquake2020-01-30\\xa0\\xa0\\xa019:47:40.653min ago',\n",
       "  'Latitude': '39.52\\xa0N\\xa0\\xa0',\n",
       "  'Longitude': '29.43\\xa0E\\xa0\\xa0',\n",
       "  'Depth': '300',\n",
       "  'Magnitude': '2.8',\n",
       "  'Region': '\\xa0WESTERN TURKEY'},\n",
       " {'Date': 'earthquake2020-01-30\\xa0\\xa0\\xa019:32:48.01hr 08min ago',\n",
       "  'Latitude': '2.46\\xa0N\\xa0\\xa0',\n",
       "  'Longitude': '98.99\\xa0E\\xa0\\xa0',\n",
       "  'Depth': '142',\n",
       "  'Magnitude': '3.4',\n",
       "  'Region': '\\xa0NORTHERN SUMATRA, INDONESIA'},\n",
       " {'Date': 'earthquake2020-01-30\\xa0\\xa0\\xa019:32:21.01hr 08min ago',\n",
       "  'Latitude': '38.46\\xa0N\\xa0\\xa0',\n",
       "  'Longitude': '39.24\\xa0E\\xa0\\xa0',\n",
       "  'Depth': '7',\n",
       "  'Magnitude': '2.1',\n",
       "  'Region': '\\xa0EASTERN TURKEY'},\n",
       " {'Date': 'earthquake2020-01-30\\xa0\\xa0\\xa018:58:41.91hr 42min ago',\n",
       "  'Latitude': '18.98\\xa0N\\xa0\\xa0',\n",
       "  'Longitude': '81.00\\xa0W\\xa0\\xa0',\n",
       "  'Depth': '10',\n",
       "  'Magnitude': '4.5',\n",
       "  'Region': '\\xa0CAYMAN ISLANDS REGION'},\n",
       " {'Date': 'earthquake2020-01-30\\xa0\\xa0\\xa018:56:47.61hr 44min ago',\n",
       "  'Latitude': '38.99\\xa0N\\xa0\\xa0',\n",
       "  'Longitude': '27.87\\xa0E\\xa0\\xa0',\n",
       "  'Depth': '5',\n",
       "  'Magnitude': '2.8',\n",
       "  'Region': '\\xa0WESTERN TURKEY'},\n",
       " {'Date': 'earthquake2020-01-30\\xa0\\xa0\\xa018:43:40.81hr 57min ago',\n",
       "  'Latitude': '35.19\\xa0N\\xa0\\xa0',\n",
       "  'Longitude': '27.96\\xa0E\\xa0\\xa0',\n",
       "  'Depth': '2',\n",
       "  'Magnitude': '3.3',\n",
       "  'Region': '\\xa0DODECANESE ISLANDS, GREECE'},\n",
       " {'Date': 'earthquake2020-01-30\\xa0\\xa0\\xa018:42:54.01hr 58min ago',\n",
       "  'Latitude': '19.20\\xa0N\\xa0\\xa0',\n",
       "  'Longitude': '155.45\\xa0W\\xa0\\xa0',\n",
       "  'Depth': '36',\n",
       "  'Magnitude': '2.0',\n",
       "  'Region': '\\xa0ISLAND OF HAWAII, HAWAII'},\n",
       " {'Date': 'earthquake2020-01-30\\xa0\\xa0\\xa018:40:03.82hr 01min ago',\n",
       "  'Latitude': '35.93\\xa0N\\xa0\\xa0',\n",
       "  'Longitude': '28.11\\xa0E\\xa0\\xa0',\n",
       "  'Depth': '28',\n",
       "  'Magnitude': '2.2',\n",
       "  'Region': '\\xa0EASTERN MEDITERRANEAN SEA'},\n",
       " {'Date': 'earthquake2020-01-30\\xa0\\xa0\\xa018:38:55.52hr 02min ago',\n",
       "  'Latitude': '39.01\\xa0N\\xa0\\xa0',\n",
       "  'Longitude': '27.86\\xa0E\\xa0\\xa0',\n",
       "  'Depth': '7',\n",
       "  'Magnitude': '2.5',\n",
       "  'Region': '\\xa0WESTERN TURKEY'},\n",
       " {'Date': 'earthquake2020-01-30\\xa0\\xa0\\xa018:36:42.52hr 04min ago',\n",
       "  'Latitude': '38.45\\xa0N\\xa0\\xa0',\n",
       "  'Longitude': '39.19\\xa0E\\xa0\\xa0',\n",
       "  'Depth': '8',\n",
       "  'Magnitude': '2.5',\n",
       "  'Region': '\\xa0EASTERN TURKEY'},\n",
       " {'Date': 'earthquake2020-01-30\\xa0\\xa0\\xa018:34:01.62hr 07min ago',\n",
       "  'Latitude': '50.04\\xa0N\\xa0\\xa0',\n",
       "  'Longitude': '177.78\\xa0W\\xa0\\xa0',\n",
       "  'Depth': '10',\n",
       "  'Magnitude': '4.6',\n",
       "  'Region': '\\xa0ANDREANOF ISLANDS, ALEUTIAN IS.'},\n",
       " {'Date': 'earthquake2020-01-30\\xa0\\xa0\\xa018:28:47.12hr 12min ago',\n",
       "  'Latitude': '38.20\\xa0N\\xa0\\xa0',\n",
       "  'Longitude': '38.73\\xa0E\\xa0\\xa0',\n",
       "  'Depth': '7',\n",
       "  'Magnitude': '2.2',\n",
       "  'Region': '\\xa0EASTERN TURKEY'},\n",
       " {'Date': 'earthquake2020-01-30\\xa0\\xa0\\xa018:28:36.32hr 12min ago',\n",
       "  'Latitude': '39.03\\xa0N\\xa0\\xa0',\n",
       "  'Longitude': '27.85\\xa0E\\xa0\\xa0',\n",
       "  'Depth': '7',\n",
       "  'Magnitude': '2.0',\n",
       "  'Region': '\\xa0WESTERN TURKEY'},\n",
       " {'Date': 'earthquake2020-01-30\\xa0\\xa0\\xa018:26:20.92hr 14min ago',\n",
       "  'Latitude': '35.25\\xa0N\\xa0\\xa0',\n",
       "  'Longitude': '27.97\\xa0E\\xa0\\xa0',\n",
       "  'Depth': '40',\n",
       "  'Magnitude': '3.6',\n",
       "  'Region': '\\xa0DODECANESE ISLANDS, GREECE'},\n",
       " {'Date': 'earthquake2020-01-30\\xa0\\xa0\\xa018:09:11.42hr 31min ago',\n",
       "  'Latitude': '41.79\\xa0N\\xa0\\xa0',\n",
       "  'Longitude': '20.12\\xa0E\\xa0\\xa0',\n",
       "  'Depth': '25',\n",
       "  'Magnitude': '2.0',\n",
       "  'Region': '\\xa0ALBANIA'},\n",
       " {'Date': 'earthquake2020-01-30\\xa0\\xa0\\xa017:58:07.92hr 42min ago',\n",
       "  'Latitude': '9.95\\xa0S\\xa0\\xa0',\n",
       "  'Longitude': '160.90\\xa0E\\xa0\\xa0',\n",
       "  'Depth': '10',\n",
       "  'Magnitude': '4.9',\n",
       "  'Region': '\\xa0SOLOMON ISLANDS'},\n",
       " {'Date': 'earthquake2020-01-30\\xa0\\xa0\\xa017:57:57.12hr 43min ago',\n",
       "  'Latitude': '39.09\\xa0N\\xa0\\xa0',\n",
       "  'Longitude': '30.17\\xa0E\\xa0\\xa0',\n",
       "  'Depth': '7',\n",
       "  'Magnitude': '2.3',\n",
       "  'Region': '\\xa0WESTERN TURKEY'},\n",
       " {'Date': 'earthquake2020-01-30\\xa0\\xa0\\xa017:34:59.03hr 06min ago',\n",
       "  'Latitude': '38.40\\xa0N\\xa0\\xa0',\n",
       "  'Longitude': '15.36\\xa0E\\xa0\\xa0',\n",
       "  'Depth': '118',\n",
       "  'Magnitude': '2.2',\n",
       "  'Region': '\\xa0SICILY, ITALY'},\n",
       " {'Date': 'earthquake2020-01-30\\xa0\\xa0\\xa017:29:59.73hr 11min ago',\n",
       "  'Latitude': '35.09\\xa0N\\xa0\\xa0',\n",
       "  'Longitude': '95.22\\xa0W\\xa0\\xa0',\n",
       "  'Depth': '5',\n",
       "  'Magnitude': '2.1',\n",
       "  'Region': '\\xa0OKLAHOMA'},\n",
       " {'Date': 'earthquake2020-01-30\\xa0\\xa0\\xa017:29:14.53hr 11min ago',\n",
       "  'Latitude': '35.31\\xa0N\\xa0\\xa0',\n",
       "  'Longitude': '28.03\\xa0E\\xa0\\xa0',\n",
       "  'Depth': '30',\n",
       "  'Magnitude': '3.2',\n",
       "  'Region': '\\xa0EASTERN MEDITERRANEAN SEA'},\n",
       " {'Date': 'earthquake2020-01-30\\xa0\\xa0\\xa017:26:26.53hr 14min ago',\n",
       "  'Latitude': '19.45\\xa0N\\xa0\\xa0',\n",
       "  'Longitude': '155.19\\xa0W\\xa0\\xa0',\n",
       "  'Depth': '8',\n",
       "  'Magnitude': '2.1',\n",
       "  'Region': '\\xa0ISLAND OF HAWAII, HAWAII'},\n",
       " {'Date': 'earthquake2020-01-30\\xa0\\xa0\\xa017:21:08.13hr 19min ago',\n",
       "  'Latitude': '17.97\\xa0N\\xa0\\xa0',\n",
       "  'Longitude': '66.78\\xa0W\\xa0\\xa0',\n",
       "  'Depth': '6',\n",
       "  'Magnitude': '2.6',\n",
       "  'Region': '\\xa0PUERTO RICO REGION'},\n",
       " {'Date': 'earthquake2020-01-30\\xa0\\xa0\\xa017:15:36.03hr 25min ago',\n",
       "  'Latitude': '17.96\\xa0N\\xa0\\xa0',\n",
       "  'Longitude': '66.78\\xa0W\\xa0\\xa0',\n",
       "  'Depth': '7',\n",
       "  'Magnitude': '3.1',\n",
       "  'Region': '\\xa0PUERTO RICO REGION'},\n",
       " {'Date': 'earthquake2020-01-30\\xa0\\xa0\\xa017:10:27.53hr 30min ago',\n",
       "  'Latitude': '17.96\\xa0N\\xa0\\xa0',\n",
       "  'Longitude': '66.76\\xa0W\\xa0\\xa0',\n",
       "  'Depth': '10',\n",
       "  'Magnitude': '4.0',\n",
       "  'Region': '\\xa0PUERTO RICO REGION'},\n",
       " {'Date': 'earthquake2020-01-30\\xa0\\xa0\\xa017:10:22.63hr 30min ago',\n",
       "  'Latitude': '20.01\\xa0N\\xa0\\xa0',\n",
       "  'Longitude': '155.62\\xa0W\\xa0\\xa0',\n",
       "  'Depth': '32',\n",
       "  'Magnitude': '2.3',\n",
       "  'Region': '\\xa0HAWAII REGION, HAWAII'},\n",
       " {'Date': 'earthquake2020-01-30\\xa0\\xa0\\xa017:08:59.03hr 32min ago',\n",
       "  'Latitude': '8.25\\xa0S\\xa0\\xa0',\n",
       "  'Longitude': '118.05\\xa0E\\xa0\\xa0',\n",
       "  'Depth': '213',\n",
       "  'Magnitude': '4.0',\n",
       "  'Region': '\\xa0SUMBAWA REGION, INDONESIA'},\n",
       " {'Date': 'earthquake2020-01-30\\xa0\\xa0\\xa017:07:34.03hr 33min ago',\n",
       "  'Latitude': '36.70\\xa0N\\xa0\\xa0',\n",
       "  'Longitude': '121.33\\xa0W\\xa0\\xa0',\n",
       "  'Depth': '4',\n",
       "  'Magnitude': '2.9',\n",
       "  'Region': '\\xa0CENTRAL CALIFORNIA'},\n",
       " {'Date': 'earthquake2020-01-30\\xa0\\xa0\\xa017:06:15.83hr 34min ago',\n",
       "  'Latitude': '17.98\\xa0N\\xa0\\xa0',\n",
       "  'Longitude': '66.86\\xa0W\\xa0\\xa0',\n",
       "  'Depth': '12',\n",
       "  'Magnitude': '3.1',\n",
       "  'Region': '\\xa0PUERTO RICO'},\n",
       " {'Date': 'earthquake2020-01-30\\xa0\\xa0\\xa016:59:40.33hr 41min ago',\n",
       "  'Latitude': '19.39\\xa0N\\xa0\\xa0',\n",
       "  'Longitude': '155.28\\xa0W\\xa0\\xa0',\n",
       "  'Depth': '3',\n",
       "  'Magnitude': '2.1',\n",
       "  'Region': '\\xa0ISLAND OF HAWAII, HAWAII'},\n",
       " {'Date': 'earthquake2020-01-30\\xa0\\xa0\\xa016:48:05.93hr 52min ago',\n",
       "  'Latitude': '19.42\\xa0N\\xa0\\xa0',\n",
       "  'Longitude': '155.28\\xa0W\\xa0\\xa0',\n",
       "  'Depth': '10',\n",
       "  'Magnitude': '2.2',\n",
       "  'Region': '\\xa0ISLAND OF HAWAII, HAWAII'},\n",
       " {'Date': 'earthquake2020-01-30\\xa0\\xa0\\xa016:31:34.54hr 09min ago',\n",
       "  'Latitude': '69.15\\xa0N\\xa0\\xa0',\n",
       "  'Longitude': '147.06\\xa0W\\xa0\\xa0',\n",
       "  'Depth': '10',\n",
       "  'Magnitude': '2.9',\n",
       "  'Region': '\\xa0NORTHERN ALASKA'},\n",
       " {'Date': 'earthquake2020-01-30\\xa0\\xa0\\xa016:24:22.54hr 16min ago',\n",
       "  'Latitude': '35.13\\xa0N\\xa0\\xa0',\n",
       "  'Longitude': '27.95\\xa0E\\xa0\\xa0',\n",
       "  'Depth': '10',\n",
       "  'Magnitude': '3.4',\n",
       "  'Region': '\\xa0DODECANESE ISLANDS, GREECE'},\n",
       " {'Date': 'earthquake2020-01-30\\xa0\\xa0\\xa016:20:41.04hr 20min ago',\n",
       "  'Latitude': '35.38\\xa0N\\xa0\\xa0',\n",
       "  'Longitude': '28.05\\xa0E\\xa0\\xa0',\n",
       "  'Depth': '5',\n",
       "  'Magnitude': '2.6',\n",
       "  'Region': '\\xa0EASTERN MEDITERRANEAN SEA'},\n",
       " {'Date': 'earthquake2020-01-30\\xa0\\xa0\\xa016:07:04.64hr 33min ago',\n",
       "  'Latitude': '35.66\\xa0N\\xa0\\xa0',\n",
       "  'Longitude': '117.48\\xa0W\\xa0\\xa0',\n",
       "  'Depth': '2',\n",
       "  'Magnitude': '2.3',\n",
       "  'Region': '\\xa0SOUTHERN CALIFORNIA'},\n",
       " {'Date': 'earthquake2020-01-30\\xa0\\xa0\\xa016:03:06.94hr 37min ago',\n",
       "  'Latitude': '36.70\\xa0N\\xa0\\xa0',\n",
       "  'Longitude': '121.36\\xa0W\\xa0\\xa0',\n",
       "  'Depth': '4',\n",
       "  'Magnitude': '2.0',\n",
       "  'Region': '\\xa0CENTRAL CALIFORNIA'},\n",
       " {'Date': 'earthquake2020-01-30\\xa0\\xa0\\xa015:58:49.64hr 42min ago',\n",
       "  'Latitude': '31.13\\xa0N\\xa0\\xa0',\n",
       "  'Longitude': '103.25\\xa0W\\xa0\\xa0',\n",
       "  'Depth': '2',\n",
       "  'Magnitude': '3.4',\n",
       "  'Region': '\\xa0WESTERN TEXAS'},\n",
       " {'Date': 'earthquake2020-01-30\\xa0\\xa0\\xa015:53:50.14hr 47min ago',\n",
       "  'Latitude': '35.28\\xa0N\\xa0\\xa0',\n",
       "  'Longitude': '28.09\\xa0E\\xa0\\xa0',\n",
       "  'Depth': '2',\n",
       "  'Magnitude': '2.6',\n",
       "  'Region': '\\xa0EASTERN MEDITERRANEAN SEA'},\n",
       " {'Date': 'earthquake2020-01-30\\xa0\\xa0\\xa015:47:59.54hr 53min ago',\n",
       "  'Latitude': '19.49\\xa0N\\xa0\\xa0',\n",
       "  'Longitude': '155.24\\xa0W\\xa0\\xa0',\n",
       "  'Depth': '27',\n",
       "  'Magnitude': '2.1',\n",
       "  'Region': '\\xa0ISLAND OF HAWAII, HAWAII'},\n",
       " {'Date': 'earthquake2020-01-30\\xa0\\xa0\\xa015:43:23.74hr 57min ago',\n",
       "  'Latitude': '40.35\\xa0N\\xa0\\xa0',\n",
       "  'Longitude': '27.13\\xa0E\\xa0\\xa0',\n",
       "  'Depth': '7',\n",
       "  'Magnitude': '2.1',\n",
       "  'Region': '\\xa0WESTERN TURKEY'},\n",
       " {'Date': 'earthquake2020-01-30\\xa0\\xa0\\xa015:37:07.05hr 03min ago',\n",
       "  'Latitude': '0.41\\xa0S\\xa0\\xa0',\n",
       "  'Longitude': '124.13\\xa0E\\xa0\\xa0',\n",
       "  'Depth': '52',\n",
       "  'Magnitude': '4.3',\n",
       "  'Region': '\\xa0MOLUCCA SEA'},\n",
       " {'Date': 'earthquake2020-01-30\\xa0\\xa0\\xa015:31:32.75hr 09min ago',\n",
       "  'Latitude': '19.12\\xa0N\\xa0\\xa0',\n",
       "  'Longitude': '155.42\\xa0W\\xa0\\xa0',\n",
       "  'Depth': '30',\n",
       "  'Magnitude': '2.2',\n",
       "  'Region': '\\xa0ISLAND OF HAWAII, HAWAII'},\n",
       " {'Date': 'earthquake2020-01-30\\xa0\\xa0\\xa015:31:31.55hr 09min ago',\n",
       "  'Latitude': '39.24\\xa0N\\xa0\\xa0',\n",
       "  'Longitude': '18.72\\xa0E\\xa0\\xa0',\n",
       "  'Depth': '12',\n",
       "  'Magnitude': '2.8',\n",
       "  'Region': '\\xa0SOUTHERN ITALY'},\n",
       " {'Date': 'earthquake2020-01-30\\xa0\\xa0\\xa015:30:47.45hr 10min ago',\n",
       "  'Latitude': '39.06\\xa0N\\xa0\\xa0',\n",
       "  'Longitude': '27.86\\xa0E\\xa0\\xa0',\n",
       "  'Depth': '7',\n",
       "  'Magnitude': '2.1',\n",
       "  'Region': '\\xa0WESTERN TURKEY'},\n",
       " {'Date': 'earthquake2020-01-30\\xa0\\xa0\\xa015:28:46.25hr 12min ago',\n",
       "  'Latitude': '17.90\\xa0N\\xa0\\xa0',\n",
       "  'Longitude': '66.63\\xa0W\\xa0\\xa0',\n",
       "  'Depth': '11',\n",
       "  'Magnitude': '2.8',\n",
       "  'Region': '\\xa0PUERTO RICO REGION'},\n",
       " {'Date': 'earthquake2020-01-30\\xa0\\xa0\\xa015:27:18.05hr 13min ago',\n",
       "  'Latitude': '49.41\\xa0N\\xa0\\xa0',\n",
       "  'Longitude': '0.01\\xa0W\\xa0\\xa0',\n",
       "  'Depth': '5',\n",
       "  'Magnitude': '3.1',\n",
       "  'Region': '\\xa0FRANCE'},\n",
       " {'Date': 'earthquake2020-01-30\\xa0\\xa0\\xa015:24:22.05hr 16min ago',\n",
       "  'Latitude': '16.85\\xa0N\\xa0\\xa0',\n",
       "  'Longitude': '100.10\\xa0W\\xa0\\xa0',\n",
       "  'Depth': '5',\n",
       "  'Magnitude': '3.8',\n",
       "  'Region': '\\xa0OFFSHORE GUERRERO, MEXICO'},\n",
       " {'Date': 'earthquake2020-01-30\\xa0\\xa0\\xa015:12:32.65hr 28min ago',\n",
       "  'Latitude': '35.28\\xa0N\\xa0\\xa0',\n",
       "  'Longitude': '28.06\\xa0E\\xa0\\xa0',\n",
       "  'Depth': '10',\n",
       "  'Magnitude': '3.6',\n",
       "  'Region': '\\xa0EASTERN MEDITERRANEAN SEA'}]"
      ]
     },
     "execution_count": 24,
     "metadata": {},
     "output_type": "execute_result"
    }
   ],
   "source": [
    "def procesaFila(tag):\n",
    "    m = tag.find_all(\"td\")\n",
    "    return {\n",
    "        \"Date\":m[3].text,\n",
    "        \"Latitude\":m[4].text+m[5].text,\n",
    "        \"Longitude\":m[6].text+m[7].text,\n",
    "        \"Depth\":m[8].text,\n",
    "        \"Magnitude\":m[10].text,\n",
    "        \"Region\":m[11].text\n",
    "        \n",
    "    }\n",
    "earthquakes = soup.find_all('tbody')[0]\n",
    "earthquakes_dict = [procesaFila(fila) for fila in earthquakes.find_all(\"tr\")[1:]]\n",
    "\n",
    "earthquakes_dict"
   ]
  },
  {
   "cell_type": "code",
   "execution_count": 25,
   "metadata": {},
   "outputs": [
    {
     "data": {
      "text/html": [
       "<div>\n",
       "<style scoped>\n",
       "    .dataframe tbody tr th:only-of-type {\n",
       "        vertical-align: middle;\n",
       "    }\n",
       "\n",
       "    .dataframe tbody tr th {\n",
       "        vertical-align: top;\n",
       "    }\n",
       "\n",
       "    .dataframe thead th {\n",
       "        text-align: right;\n",
       "    }\n",
       "</style>\n",
       "<table border=\"1\" class=\"dataframe\">\n",
       "  <thead>\n",
       "    <tr style=\"text-align: right;\">\n",
       "      <th></th>\n",
       "      <th>Date</th>\n",
       "      <th>Latitude</th>\n",
       "      <th>Longitude</th>\n",
       "      <th>Depth</th>\n",
       "      <th>Magnitude</th>\n",
       "      <th>Region</th>\n",
       "    </tr>\n",
       "  </thead>\n",
       "  <tbody>\n",
       "    <tr>\n",
       "      <th>0</th>\n",
       "      <td>earthquake2020-01-30   19:50:41.150min ago</td>\n",
       "      <td>19.22 N</td>\n",
       "      <td>155.43 W</td>\n",
       "      <td>32</td>\n",
       "      <td>2.0</td>\n",
       "      <td>ISLAND OF HAWAII, HAWAII</td>\n",
       "    </tr>\n",
       "    <tr>\n",
       "      <th>1</th>\n",
       "      <td>earthquake2020-01-30   19:48:09.052min ago</td>\n",
       "      <td>38.34 N</td>\n",
       "      <td>38.85 E</td>\n",
       "      <td>8</td>\n",
       "      <td>2.3</td>\n",
       "      <td>EASTERN TURKEY</td>\n",
       "    </tr>\n",
       "    <tr>\n",
       "      <th>2</th>\n",
       "      <td>earthquake2020-01-30   19:47:40.653min ago</td>\n",
       "      <td>39.52 N</td>\n",
       "      <td>29.43 E</td>\n",
       "      <td>300</td>\n",
       "      <td>2.8</td>\n",
       "      <td>WESTERN TURKEY</td>\n",
       "    </tr>\n",
       "    <tr>\n",
       "      <th>3</th>\n",
       "      <td>earthquake2020-01-30   19:32:48.01hr 08min ago</td>\n",
       "      <td>2.46 N</td>\n",
       "      <td>98.99 E</td>\n",
       "      <td>142</td>\n",
       "      <td>3.4</td>\n",
       "      <td>NORTHERN SUMATRA, INDONESIA</td>\n",
       "    </tr>\n",
       "    <tr>\n",
       "      <th>4</th>\n",
       "      <td>earthquake2020-01-30   19:32:21.01hr 08min ago</td>\n",
       "      <td>38.46 N</td>\n",
       "      <td>39.24 E</td>\n",
       "      <td>7</td>\n",
       "      <td>2.1</td>\n",
       "      <td>EASTERN TURKEY</td>\n",
       "    </tr>\n",
       "    <tr>\n",
       "      <th>5</th>\n",
       "      <td>earthquake2020-01-30   18:58:41.91hr 42min ago</td>\n",
       "      <td>18.98 N</td>\n",
       "      <td>81.00 W</td>\n",
       "      <td>10</td>\n",
       "      <td>4.5</td>\n",
       "      <td>CAYMAN ISLANDS REGION</td>\n",
       "    </tr>\n",
       "    <tr>\n",
       "      <th>6</th>\n",
       "      <td>earthquake2020-01-30   18:56:47.61hr 44min ago</td>\n",
       "      <td>38.99 N</td>\n",
       "      <td>27.87 E</td>\n",
       "      <td>5</td>\n",
       "      <td>2.8</td>\n",
       "      <td>WESTERN TURKEY</td>\n",
       "    </tr>\n",
       "    <tr>\n",
       "      <th>7</th>\n",
       "      <td>earthquake2020-01-30   18:43:40.81hr 57min ago</td>\n",
       "      <td>35.19 N</td>\n",
       "      <td>27.96 E</td>\n",
       "      <td>2</td>\n",
       "      <td>3.3</td>\n",
       "      <td>DODECANESE ISLANDS, GREECE</td>\n",
       "    </tr>\n",
       "    <tr>\n",
       "      <th>8</th>\n",
       "      <td>earthquake2020-01-30   18:42:54.01hr 58min ago</td>\n",
       "      <td>19.20 N</td>\n",
       "      <td>155.45 W</td>\n",
       "      <td>36</td>\n",
       "      <td>2.0</td>\n",
       "      <td>ISLAND OF HAWAII, HAWAII</td>\n",
       "    </tr>\n",
       "    <tr>\n",
       "      <th>9</th>\n",
       "      <td>earthquake2020-01-30   18:40:03.82hr 01min ago</td>\n",
       "      <td>35.93 N</td>\n",
       "      <td>28.11 E</td>\n",
       "      <td>28</td>\n",
       "      <td>2.2</td>\n",
       "      <td>EASTERN MEDITERRANEAN SEA</td>\n",
       "    </tr>\n",
       "    <tr>\n",
       "      <th>10</th>\n",
       "      <td>earthquake2020-01-30   18:38:55.52hr 02min ago</td>\n",
       "      <td>39.01 N</td>\n",
       "      <td>27.86 E</td>\n",
       "      <td>7</td>\n",
       "      <td>2.5</td>\n",
       "      <td>WESTERN TURKEY</td>\n",
       "    </tr>\n",
       "    <tr>\n",
       "      <th>11</th>\n",
       "      <td>earthquake2020-01-30   18:36:42.52hr 04min ago</td>\n",
       "      <td>38.45 N</td>\n",
       "      <td>39.19 E</td>\n",
       "      <td>8</td>\n",
       "      <td>2.5</td>\n",
       "      <td>EASTERN TURKEY</td>\n",
       "    </tr>\n",
       "    <tr>\n",
       "      <th>12</th>\n",
       "      <td>earthquake2020-01-30   18:34:01.62hr 07min ago</td>\n",
       "      <td>50.04 N</td>\n",
       "      <td>177.78 W</td>\n",
       "      <td>10</td>\n",
       "      <td>4.6</td>\n",
       "      <td>ANDREANOF ISLANDS, ALEUTIAN IS.</td>\n",
       "    </tr>\n",
       "    <tr>\n",
       "      <th>13</th>\n",
       "      <td>earthquake2020-01-30   18:28:47.12hr 12min ago</td>\n",
       "      <td>38.20 N</td>\n",
       "      <td>38.73 E</td>\n",
       "      <td>7</td>\n",
       "      <td>2.2</td>\n",
       "      <td>EASTERN TURKEY</td>\n",
       "    </tr>\n",
       "    <tr>\n",
       "      <th>14</th>\n",
       "      <td>earthquake2020-01-30   18:28:36.32hr 12min ago</td>\n",
       "      <td>39.03 N</td>\n",
       "      <td>27.85 E</td>\n",
       "      <td>7</td>\n",
       "      <td>2.0</td>\n",
       "      <td>WESTERN TURKEY</td>\n",
       "    </tr>\n",
       "    <tr>\n",
       "      <th>15</th>\n",
       "      <td>earthquake2020-01-30   18:26:20.92hr 14min ago</td>\n",
       "      <td>35.25 N</td>\n",
       "      <td>27.97 E</td>\n",
       "      <td>40</td>\n",
       "      <td>3.6</td>\n",
       "      <td>DODECANESE ISLANDS, GREECE</td>\n",
       "    </tr>\n",
       "    <tr>\n",
       "      <th>16</th>\n",
       "      <td>earthquake2020-01-30   18:09:11.42hr 31min ago</td>\n",
       "      <td>41.79 N</td>\n",
       "      <td>20.12 E</td>\n",
       "      <td>25</td>\n",
       "      <td>2.0</td>\n",
       "      <td>ALBANIA</td>\n",
       "    </tr>\n",
       "    <tr>\n",
       "      <th>17</th>\n",
       "      <td>earthquake2020-01-30   17:58:07.92hr 42min ago</td>\n",
       "      <td>9.95 S</td>\n",
       "      <td>160.90 E</td>\n",
       "      <td>10</td>\n",
       "      <td>4.9</td>\n",
       "      <td>SOLOMON ISLANDS</td>\n",
       "    </tr>\n",
       "    <tr>\n",
       "      <th>18</th>\n",
       "      <td>earthquake2020-01-30   17:57:57.12hr 43min ago</td>\n",
       "      <td>39.09 N</td>\n",
       "      <td>30.17 E</td>\n",
       "      <td>7</td>\n",
       "      <td>2.3</td>\n",
       "      <td>WESTERN TURKEY</td>\n",
       "    </tr>\n",
       "    <tr>\n",
       "      <th>19</th>\n",
       "      <td>earthquake2020-01-30   17:34:59.03hr 06min ago</td>\n",
       "      <td>38.40 N</td>\n",
       "      <td>15.36 E</td>\n",
       "      <td>118</td>\n",
       "      <td>2.2</td>\n",
       "      <td>SICILY, ITALY</td>\n",
       "    </tr>\n",
       "  </tbody>\n",
       "</table>\n",
       "</div>"
      ],
      "text/plain": [
       "                                              Date   Latitude   Longitude  \\\n",
       "0       earthquake2020-01-30   19:50:41.150min ago  19.22 N    155.43 W     \n",
       "1       earthquake2020-01-30   19:48:09.052min ago  38.34 N     38.85 E     \n",
       "2       earthquake2020-01-30   19:47:40.653min ago  39.52 N     29.43 E     \n",
       "3   earthquake2020-01-30   19:32:48.01hr 08min ago   2.46 N     98.99 E     \n",
       "4   earthquake2020-01-30   19:32:21.01hr 08min ago  38.46 N     39.24 E     \n",
       "5   earthquake2020-01-30   18:58:41.91hr 42min ago  18.98 N     81.00 W     \n",
       "6   earthquake2020-01-30   18:56:47.61hr 44min ago  38.99 N     27.87 E     \n",
       "7   earthquake2020-01-30   18:43:40.81hr 57min ago  35.19 N     27.96 E     \n",
       "8   earthquake2020-01-30   18:42:54.01hr 58min ago  19.20 N    155.45 W     \n",
       "9   earthquake2020-01-30   18:40:03.82hr 01min ago  35.93 N     28.11 E     \n",
       "10  earthquake2020-01-30   18:38:55.52hr 02min ago  39.01 N     27.86 E     \n",
       "11  earthquake2020-01-30   18:36:42.52hr 04min ago  38.45 N     39.19 E     \n",
       "12  earthquake2020-01-30   18:34:01.62hr 07min ago  50.04 N    177.78 W     \n",
       "13  earthquake2020-01-30   18:28:47.12hr 12min ago  38.20 N     38.73 E     \n",
       "14  earthquake2020-01-30   18:28:36.32hr 12min ago  39.03 N     27.85 E     \n",
       "15  earthquake2020-01-30   18:26:20.92hr 14min ago  35.25 N     27.97 E     \n",
       "16  earthquake2020-01-30   18:09:11.42hr 31min ago  41.79 N     20.12 E     \n",
       "17  earthquake2020-01-30   17:58:07.92hr 42min ago   9.95 S    160.90 E     \n",
       "18  earthquake2020-01-30   17:57:57.12hr 43min ago  39.09 N     30.17 E     \n",
       "19  earthquake2020-01-30   17:34:59.03hr 06min ago  38.40 N     15.36 E     \n",
       "\n",
       "   Depth Magnitude                            Region  \n",
       "0     32       2.0          ISLAND OF HAWAII, HAWAII  \n",
       "1      8       2.3                    EASTERN TURKEY  \n",
       "2    300       2.8                    WESTERN TURKEY  \n",
       "3    142       3.4       NORTHERN SUMATRA, INDONESIA  \n",
       "4      7       2.1                    EASTERN TURKEY  \n",
       "5     10       4.5             CAYMAN ISLANDS REGION  \n",
       "6      5       2.8                    WESTERN TURKEY  \n",
       "7      2       3.3        DODECANESE ISLANDS, GREECE  \n",
       "8     36       2.0          ISLAND OF HAWAII, HAWAII  \n",
       "9     28       2.2         EASTERN MEDITERRANEAN SEA  \n",
       "10     7       2.5                    WESTERN TURKEY  \n",
       "11     8       2.5                    EASTERN TURKEY  \n",
       "12    10       4.6   ANDREANOF ISLANDS, ALEUTIAN IS.  \n",
       "13     7       2.2                    EASTERN TURKEY  \n",
       "14     7       2.0                    WESTERN TURKEY  \n",
       "15    40       3.6        DODECANESE ISLANDS, GREECE  \n",
       "16    25       2.0                           ALBANIA  \n",
       "17    10       4.9                   SOLOMON ISLANDS  \n",
       "18     7       2.3                    WESTERN TURKEY  \n",
       "19   118       2.2                     SICILY, ITALY  "
      ]
     },
     "execution_count": 25,
     "metadata": {},
     "output_type": "execute_result"
    }
   ],
   "source": [
    "import pandas as pd\n",
    "df = pd.DataFrame(earthquakes_dict)\n",
    "df.head(20)"
   ]
  },
  {
   "cell_type": "markdown",
   "metadata": {},
   "source": [
    "#### Display the date, days, title, city, country of next 25 hackathon events as a Pandas dataframe table"
   ]
  },
  {
   "cell_type": "code",
   "execution_count": 26,
   "metadata": {},
   "outputs": [],
   "source": [
    "# This is the url you will scrape in this exercise\n",
    "url ='https://hackevents.co/hackathons'"
   ]
  },
  {
   "cell_type": "code",
   "execution_count": 27,
   "metadata": {},
   "outputs": [],
   "source": [
    "#your code"
   ]
  },
  {
   "cell_type": "markdown",
   "metadata": {},
   "source": [
    "#### Count number of tweets by a given Twitter account."
   ]
  },
  {
   "cell_type": "markdown",
   "metadata": {},
   "source": [
    "You will need to include a ***try/except block*** for account names not found. \n",
    "<br>***Hint:*** the program should count the number of tweets for any provided account"
   ]
  },
  {
   "cell_type": "code",
   "execution_count": 28,
   "metadata": {},
   "outputs": [],
   "source": [
    "# This is the url you will scrape in this exercise \n",
    "# You will need to add the account credentials to this url\n",
    "url5 = 'https://twitter.com/kobebryant'\n",
    "res=requests.get(url5)\n",
    "twitter=res.text\n",
    "soup=BeautifulSoup(twitter,'html.parser')"
   ]
  },
  {
   "cell_type": "code",
   "execution_count": 29,
   "metadata": {},
   "outputs": [
    {
     "name": "stdout",
     "output_type": "stream",
     "text": [
      "1.908\n",
      "            \n"
     ]
    }
   ],
   "source": [
    "#your code\n",
    "numtw=soup.select('.ProfileNav-value')[0]\n",
    "print(numtw.text)"
   ]
  },
  {
   "cell_type": "markdown",
   "metadata": {},
   "source": [
    "#### Number of followers of a given twitter account"
   ]
  },
  {
   "cell_type": "markdown",
   "metadata": {},
   "source": [
    "You will need to include a ***try/except block*** in case account/s name not found. \n",
    "<br>***Hint:*** the program should count the followers for any provided account"
   ]
  },
  {
   "cell_type": "code",
   "execution_count": 30,
   "metadata": {},
   "outputs": [],
   "source": [
    "# This is the url you will scrape in this exercise \n",
    "# You will need to add the account credentials to this url\n",
    "url = 'https://twitter.com/'"
   ]
  },
  {
   "cell_type": "code",
   "execution_count": 31,
   "metadata": {},
   "outputs": [],
   "source": [
    "#your code\n",
    "url6 = 'https://twitter.com/kobebryant'\n",
    "res=requests.get(url6)\n",
    "followers=res.text\n",
    "soup=BeautifulSoup(followers,'html.parser')"
   ]
  },
  {
   "cell_type": "code",
   "execution_count": 32,
   "metadata": {},
   "outputs": [
    {
     "name": "stdout",
     "output_type": "stream",
     "text": [
      "15,5 M\n"
     ]
    }
   ],
   "source": [
    "numfoll=soup.select('.ProfileNav-value')[2]\n",
    "print(numfoll.text)"
   ]
  },
  {
   "cell_type": "markdown",
   "metadata": {},
   "source": [
    "#### List all language names and number of related articles in the order they appear in wikipedia.org"
   ]
  },
  {
   "cell_type": "code",
   "execution_count": 33,
   "metadata": {},
   "outputs": [],
   "source": [
    "# This is the url you will scrape in this exercise\n",
    "url7 = 'https://www.wikipedia.org/'\n",
    "idioms = requests.get(url7)\n",
    "soup = BeautifulSoup(idioms.text, 'html.parser')"
   ]
  },
  {
   "cell_type": "code",
   "execution_count": 34,
   "metadata": {},
   "outputs": [],
   "source": [
    "idiomas = soup.select('.link-box')"
   ]
  },
  {
   "cell_type": "code",
   "execution_count": 35,
   "metadata": {},
   "outputs": [
    {
     "name": "stdout",
     "output_type": "stream",
     "text": [
      "English 5 994 000+\n",
      "æ¥æ¬èª 1 185 000+\n",
      "Deutsch 2 385 000+\n",
      "EspaÃ±ol 1 571 000+\n",
      "Ð ÑÑÑÐºÐ¸Ð¹ 1 590 000+\n",
      "FranÃ§ais 2 171 000+\n",
      "Italiano 1 576 000+\n",
      "ä¸­æ 1 090 000+\n",
      "PortuguÃªs 1 018 000+\n",
      "Polski 1 379 000+\n"
     ]
    }
   ],
   "source": [
    "for i in idiomas:\n",
    "    lenguage = i.find('strong').text\n",
    "    number = i.find('bdi').text\n",
    "    print(lenguage, number)"
   ]
  },
  {
   "cell_type": "markdown",
   "metadata": {},
   "source": [
    "#### A list with the different kind of datasets available in data.gov.uk "
   ]
  },
  {
   "cell_type": "code",
   "execution_count": 36,
   "metadata": {},
   "outputs": [],
   "source": [
    "# This is the url you will scrape in this exercise\n",
    "url8 = 'https://data.gov.uk/'\n",
    "data = requests.get(url8)\n",
    "soup = BeautifulSoup(data.text, 'html.parser')"
   ]
  },
  {
   "cell_type": "code",
   "execution_count": 39,
   "metadata": {},
   "outputs": [
    {
     "data": {
      "text/plain": [
       "[<h2><a href=\"/search?filters%5Btopic%5D=Business+and+economy\">Business and economy</a></h2>,\n",
       " <h2><a href=\"/search?filters%5Btopic%5D=Crime+and+justice\">Crime and justice</a></h2>,\n",
       " <h2><a href=\"/search?filters%5Btopic%5D=Defence\">Defence</a></h2>,\n",
       " <h2><a href=\"/search?filters%5Btopic%5D=Education\">Education</a></h2>,\n",
       " <h2><a href=\"/search?filters%5Btopic%5D=Environment\">Environment</a></h2>,\n",
       " <h2><a href=\"/search?filters%5Btopic%5D=Government\">Government</a></h2>,\n",
       " <h2><a href=\"/search?filters%5Btopic%5D=Government+spending\">Government spending</a></h2>,\n",
       " <h2><a href=\"/search?filters%5Btopic%5D=Health\">Health</a></h2>,\n",
       " <h2><a href=\"/search?filters%5Btopic%5D=Mapping\">Mapping</a></h2>,\n",
       " <h2><a href=\"/search?filters%5Btopic%5D=Society\">Society</a></h2>,\n",
       " <h2><a href=\"/search?filters%5Btopic%5D=Towns+and+cities\">Towns and cities</a></h2>,\n",
       " <h2><a href=\"/search?filters%5Btopic%5D=Transport\">Transport</a></h2>]"
      ]
     },
     "execution_count": 39,
     "metadata": {},
     "output_type": "execute_result"
    }
   ],
   "source": [
    "kind = soup.select('h2')\n",
    "kind"
   ]
  },
  {
   "cell_type": "code",
   "execution_count": 46,
   "metadata": {},
   "outputs": [
    {
     "name": "stdout",
     "output_type": "stream",
     "text": [
      "Business and economy\n",
      "Crime and justice\n",
      "Defence\n",
      "Education\n",
      "Environment\n",
      "Government\n",
      "Government spending\n",
      "Health\n",
      "Mapping\n",
      "Society\n",
      "Towns and cities\n",
      "Transport\n"
     ]
    }
   ],
   "source": [
    "#your code \n",
    "for i in kind:\n",
    "    tipos=i.find('a').text\n",
    "    print(tipos)"
   ]
  },
  {
   "cell_type": "markdown",
   "metadata": {},
   "source": [
    "#### Top 10 languages by number of native speakers stored in a Pandas Dataframe"
   ]
  },
  {
   "cell_type": "code",
   "execution_count": null,
   "metadata": {},
   "outputs": [],
   "source": [
    "# This is the url you will scrape in this exercise\n",
    "url = 'https://en.wikipedia.org/wiki/List_of_languages_by_number_of_native_speakers'"
   ]
  },
  {
   "cell_type": "code",
   "execution_count": null,
   "metadata": {},
   "outputs": [],
   "source": [
    "#your code"
   ]
  },
  {
   "cell_type": "markdown",
   "metadata": {},
   "source": [
    "### BONUS QUESTIONS"
   ]
  },
  {
   "cell_type": "markdown",
   "metadata": {},
   "source": [
    "#### Scrape a certain number of tweets of a given Twitter account."
   ]
  },
  {
   "cell_type": "code",
   "execution_count": null,
   "metadata": {},
   "outputs": [],
   "source": [
    "# This is the url you will scrape in this exercise \n",
    "# You will need to add the account credentials to this url\n",
    "url = 'https://twitter.com/'"
   ]
  },
  {
   "cell_type": "code",
   "execution_count": null,
   "metadata": {},
   "outputs": [],
   "source": [
    "# your code"
   ]
  },
  {
   "cell_type": "markdown",
   "metadata": {},
   "source": [
    "#### IMDB's Top 250 data (movie name, Initial release, director name and stars) as a pandas dataframe"
   ]
  },
  {
   "cell_type": "code",
   "execution_count": null,
   "metadata": {},
   "outputs": [],
   "source": [
    "# This is the url you will scrape in this exercise \n",
    "url = 'https://www.imdb.com/chart/top'"
   ]
  },
  {
   "cell_type": "code",
   "execution_count": null,
   "metadata": {},
   "outputs": [],
   "source": [
    "# your code"
   ]
  },
  {
   "cell_type": "markdown",
   "metadata": {},
   "source": [
    "#### Movie name, year and a brief summary of the top 10 random movies (IMDB) as a pandas dataframe."
   ]
  },
  {
   "cell_type": "code",
   "execution_count": null,
   "metadata": {},
   "outputs": [],
   "source": [
    "#This is the url you will scrape in this exercise\n",
    "url = 'http://www.imdb.com/chart/top'"
   ]
  },
  {
   "cell_type": "code",
   "execution_count": null,
   "metadata": {},
   "outputs": [],
   "source": [
    "#your code"
   ]
  },
  {
   "cell_type": "markdown",
   "metadata": {},
   "source": [
    "#### Find the live weather report (temperature, wind speed, description and weather) of a given city."
   ]
  },
  {
   "cell_type": "code",
   "execution_count": null,
   "metadata": {},
   "outputs": [],
   "source": [
    "#https://openweathermap.org/current\n",
    "city = city=input('Enter the city:')\n",
    "url = 'http://api.openweathermap.org/data/2.5/weather?'+'q='+city+'&APPID=b35975e18dc93725acb092f7272cc6b8&units=metric'"
   ]
  },
  {
   "cell_type": "code",
   "execution_count": null,
   "metadata": {},
   "outputs": [],
   "source": [
    "# your code"
   ]
  },
  {
   "cell_type": "markdown",
   "metadata": {},
   "source": [
    "#### Book name,price and stock availability as a pandas dataframe."
   ]
  },
  {
   "cell_type": "code",
   "execution_count": null,
   "metadata": {},
   "outputs": [],
   "source": [
    "# This is the url you will scrape in this exercise. \n",
    "# It is a fictional bookstore created to be scraped. \n",
    "url = 'http://books.toscrape.com/'"
   ]
  },
  {
   "cell_type": "code",
   "execution_count": null,
   "metadata": {},
   "outputs": [],
   "source": [
    "#your code"
   ]
  }
 ],
 "metadata": {
  "kernelspec": {
   "display_name": "Python 3",
   "language": "python",
   "name": "python3"
  },
  "language_info": {
   "codemirror_mode": {
    "name": "ipython",
    "version": 3
   },
   "file_extension": ".py",
   "mimetype": "text/x-python",
   "name": "python",
   "nbconvert_exporter": "python",
   "pygments_lexer": "ipython3",
   "version": "3.8.1"
  }
 },
 "nbformat": 4,
 "nbformat_minor": 2
}
